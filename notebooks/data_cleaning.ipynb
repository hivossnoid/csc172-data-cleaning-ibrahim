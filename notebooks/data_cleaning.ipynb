{
 "cells": [
  {
   "cell_type": "code",
   "execution_count": null,
   "id": "df475218",
   "metadata": {},
   "outputs": [],
   "source": [
    "import numpy as np\n",
    "import pandas as pd\n",
    "from pathlib import Path"
   ]
  },
  {
   "cell_type": "code",
   "execution_count": null,
   "id": "40006643",
   "metadata": {},
   "outputs": [],
   "source": [
    "# Loading Dataset\n",
    "df = pd.read_csv('../data/raw_dataset.csv') "
   ]
  },
  {
   "cell_type": "code",
   "execution_count": null,
   "id": "777b122c",
   "metadata": {},
   "outputs": [],
   "source": [
    "# Exploring Dataset\n",
    "df.head()\n",
    "df.info()\n",
    "df.describe()"
   ]
  },
  {
   "cell_type": "code",
   "execution_count": null,
   "id": "cdbbee07",
   "metadata": {},
   "outputs": [],
   "source": [
    "# Formatting data into data we can manipulate              \n",
    "df.columns = df.columns.str.strip()\n",
    "df.columns = df.columns.str.title()\n",
    "\n",
    "rows_before = sum(1 for _ in open(\"../data/raw_dataset.csv\")) - 1  # subtract 1 for header\n",
    "print(f\"Total values before cleaning: {rows_before}\")\n",
    "\n",
    "missing_count = df.isna().sum().sum()\n",
    "print(f\"Missing values: {missing_count}\")"
   ]
  },
  {
   "cell_type": "code",
   "execution_count": null,
   "id": "88740fcf",
   "metadata": {},
   "outputs": [],
   "source": [
    "# Dropping data with null values    \n",
    "df.dropna(inplace = True)"
   ]
  },
  {
   "cell_type": "code",
   "execution_count": null,
   "id": "11945944",
   "metadata": {},
   "outputs": [],
   "source": [
    "# Formatting vague data\n",
    "allowed = [\"HS-grad\", \"HS-undergrad\", \"Some-college\",\n",
    "       \"Bachelors\", \"Masters\", \"Doctorate\", \"Assoc-acdm\"]\n",
    "mask = df[\"Education\"].str.contains(r\"\\b\\d+th\\b\", case=False, na=False)\n",
    "df.loc[mask, \"Education\"] = \"HS-undergrad\"\n",
    "\n",
    "inconsistent_count = mask.sum()\n",
    "print(f\"Inconsistent values: {inconsistent_count}\")"
   ]
  },
  {
   "cell_type": "code",
   "execution_count": null,
   "id": "a6d0ddc7",
   "metadata": {},
   "outputs": [],
   "source": [
    "# Dropping duplicate data\n",
    "duplicate_count = df.duplicated().sum()\n",
    "print(f\"Duplicates: {duplicate_count}\")\n",
    "df.drop_duplicates(inplace = True)"
   ]
  },
  {
   "cell_type": "code",
   "execution_count": null,
   "id": "e05757aa",
   "metadata": {},
   "outputs": [],
   "source": [
    "# Export cleaned data to a new csv file\n",
    "export_dir = Path(\"../data/\")\n",
    "export_dir.mkdir(parents=True, exist_ok=True)\n",
    "output_path = export_dir / \"cleaned_dataset.csv\"\n",
    "df.to_csv(output_path, index=False)\n",
    "\n",
    "rows_after = sum(1 for _ in open(\"../data/cleaned_dataset.csv\")) - 1  # subtract 1 for header\n",
    "print(f\"Total values after cleaning: {rows_after}\")\n",
    "print(f\"Cleaned data saved to: {output_path}\")"
   ]
  }
 ],
 "metadata": {
  "jupytext": {
   "cell_metadata_filter": "-all",
   "main_language": "python",
   "notebook_metadata_filter": "-all"
  }
 },
 "nbformat": 4,
 "nbformat_minor": 5
}
