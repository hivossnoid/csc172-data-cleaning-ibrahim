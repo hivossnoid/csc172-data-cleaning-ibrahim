{
 "cells": [
  {
   "cell_type": "code",
   "execution_count": null,
   "id": "1b435a56",
   "metadata": {},
   "outputs": [],
   "source": [
    "import numpy as np\n",
    "import pandas as pd\n",
    "from pathlib import Path"
   ]
  },
  {
   "cell_type": "code",
   "execution_count": null,
   "id": "e50ecc12",
   "metadata": {},
   "outputs": [],
   "source": [
    "# Loading Dataset\n",
    "df = pd.read_csv('../data/raw_dataset.csv') "
   ]
  },
  {
   "cell_type": "code",
   "execution_count": null,
   "id": "318ee953",
   "metadata": {},
   "outputs": [],
   "source": [
    "# Exploring Dataset\n",
    "print(df.head())\n",
    "\n",
    "df.info()\n",
    "df.describe()"
   ]
  },
  {
   "cell_type": "code",
   "execution_count": null,
   "id": "2267a73a",
   "metadata": {},
   "outputs": [],
   "source": [
    "# Formatting data into data we can manipulate              \n",
    "df.columns = df.columns.str.strip()\n",
    "df.columns = df.columns.str.title()"
   ]
  },
  {
   "cell_type": "code",
   "execution_count": null,
   "id": "ba7e5f1b",
   "metadata": {},
   "outputs": [],
   "source": [
    "# Dataframe shape before cleaned\n",
    "print(f\"Total values before cleaning: \", df.shape)"
   ]
  },
  {
   "cell_type": "code",
   "execution_count": null,
   "id": "64a94672",
   "metadata": {},
   "outputs": [],
   "source": [
    "# Summary before cleaned\n",
    "print(\"\\nSummary statistics BEFORE cleaning\")\n",
    "print(df.describe(include=\"all\"))"
   ]
  },
  {
   "cell_type": "code",
   "execution_count": null,
   "id": "44ab2754",
   "metadata": {},
   "outputs": [],
   "source": [
    "## Missing count\n",
    "missing_count = df.isna().sum().sum()\n",
    "print(f\"Missing values: {missing_count}\")"
   ]
  },
  {
   "cell_type": "code",
   "execution_count": null,
   "id": "2033f15a",
   "metadata": {},
   "outputs": [],
   "source": [
    "# Dropping data with null values\n",
    "df.replace(r\"^\\s*\\?\\s*$\", np.nan, regex=True, inplace=True)    \n",
    "df.dropna(inplace = True)"
   ]
  },
  {
   "cell_type": "code",
   "execution_count": null,
   "id": "025ed0a0",
   "metadata": {},
   "outputs": [],
   "source": [
    "# Formatting vague data\n",
    "allowed = [\"HS-grad\", \"HS-undergrad\", \"Some-college\",\n",
    "       \"Bachelors\", \"Masters\", \"Doctorate\", \"Assoc-acdm\"]\n",
    "mask = df[\"Education\"].str.contains(r\"\\b\\d+th\\b\", case=False, na=False)\n",
    "df.loc[mask, \"Education\"] = \"HS-undergrad\""
   ]
  },
  {
   "cell_type": "code",
   "execution_count": null,
   "id": "4f9470f5",
   "metadata": {},
   "outputs": [],
   "source": [
    "# Inconsistent data\n",
    "inconsistent_count = mask.sum()\n",
    "print(f\"Inconsistent values: {inconsistent_count}\")"
   ]
  },
  {
   "cell_type": "code",
   "execution_count": null,
   "id": "bf229f33",
   "metadata": {},
   "outputs": [],
   "source": [
    "# Dropping duplicate data\n",
    "duplicate_count = df.duplicated().sum()\n",
    "print(f\"Duplicates: {duplicate_count}\")\n",
    "df.drop_duplicates(inplace = True)"
   ]
  },
  {
   "cell_type": "code",
   "execution_count": null,
   "id": "8ca2bfe1",
   "metadata": {},
   "outputs": [],
   "source": [
    "# Export cleaned data to a new csv file\n",
    "export_dir = Path(\"../data/\")\n",
    "export_dir.mkdir(parents=True, exist_ok=True)\n",
    "output_path = export_dir / \"cleaned_dataset.csv\"\n",
    "df.to_csv(output_path, index=False)\n",
    "print(f\"Cleaned data saved to: {output_path}\")"
   ]
  },
  {
   "cell_type": "code",
   "execution_count": null,
   "id": "55612cd8",
   "metadata": {},
   "outputs": [],
   "source": [
    "# Dataframe shape after cleaned\n",
    "print(f\"Shape after cleaning: \", df.shape)"
   ]
  },
  {
   "cell_type": "code",
   "execution_count": null,
   "id": "434d59ee",
   "metadata": {
    "lines_to_next_cell": 2
   },
   "outputs": [],
   "source": [
    "# Summary after cleaned \n",
    "print(\"\\nSummary statistics AFTER cleaning\")\n",
    "print(df.describe(include=\"all\"))"
   ]
  }
 ],
 "metadata": {
  "jupytext": {
   "cell_metadata_filter": "-all",
   "main_language": "python",
   "notebook_metadata_filter": "-all"
  }
 },
 "nbformat": 4,
 "nbformat_minor": 5
}
